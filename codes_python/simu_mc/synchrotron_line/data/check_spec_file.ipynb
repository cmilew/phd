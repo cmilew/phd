{
 "cells": [
  {
   "cell_type": "code",
   "execution_count": null,
   "metadata": {},
   "outputs": [
    {
     "name": "stdout",
     "output_type": "stream",
     "text": [
      "✅ Le fichier nettoyé a bien été chargé sans erreur.\n"
     ]
    }
   ],
   "source": [
    "import numpy as np\n",
    "\n",
    "# Ouvrir le fichier et filtrer les lignes vides\n",
    "cleaned_lines = []\n",
    "with open(\"ANSTO_AlCu_93keV.txt\", \"r\") as f:\n",
    "    for i, line in enumerate(f, start=1):\n",
    "        line = line.strip()  # Supprime les espaces inutiles\n",
    "        if line:  # Ignore les lignes vides\n",
    "            values = line.split()\n",
    "            if len(values) != 2:  # Vérifie qu'il y a bien deux valeurs par ligne\n",
    "                print(f\"⚠️ Erreur ligne {i} : Mauvais format -> {line}\")\n",
    "                continue\n",
    "            try:\n",
    "                float(values[0])\n",
    "                float(values[1])\n",
    "                cleaned_lines.append(line)  # Ajouter seulement les lignes valides\n",
    "            except ValueError:\n",
    "                print(f\"⚠️ Erreur ligne {i} : Contient une valeur non convertible -> {line}\")\n",
    "\n",
    "# Sauvegarder un fichier propre (optionnel)\n",
    "with open(\"mon_fichier_clean.txt\", \"w\") as f:\n",
    "    f.write(\"\\n\".join(cleaned_lines) + \"\\n\")\n",
    "\n",
    "# Charger avec NumPy en s'assurant qu'il n'y a pas d'erreur\n",
    "try:\n",
    "    data = np.loadtxt(\"mon_fichier_clean.txt\")\n",
    "    print(\"✅ Le fichier nettoyé a bien été chargé sans erreur.\")\n",
    "except ValueError as e:\n",
    "    print(f\"❌ Erreur de conversion dans NumPy : {e}\")\n"
   ]
  }
 ],
 "metadata": {
  "kernelspec": {
   "display_name": "idk69",
   "language": "python",
   "name": "python3"
  },
  "language_info": {
   "codemirror_mode": {
    "name": "ipython",
    "version": 3
   },
   "file_extension": ".py",
   "mimetype": "text/x-python",
   "name": "python",
   "nbconvert_exporter": "python",
   "pygments_lexer": "ipython3",
   "version": "3.9.19"
  }
 },
 "nbformat": 4,
 "nbformat_minor": 2
}
