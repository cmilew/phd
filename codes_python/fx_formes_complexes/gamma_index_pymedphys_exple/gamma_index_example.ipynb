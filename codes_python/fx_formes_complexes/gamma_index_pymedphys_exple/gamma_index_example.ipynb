{
 "cells": [
  {
   "cell_type": "code",
   "execution_count": 2,
   "metadata": {},
   "outputs": [],
   "source": [
    "import numpy as np\n",
    "import matplotlib.pyplot as plt\n",
    "import csv\n",
    "import pymedphys\n",
    "import urllib.request"
   ]
  },
  {
   "cell_type": "code",
   "execution_count": 3,
   "metadata": {},
   "outputs": [
    {
     "data": {
      "text/plain": [
       "('dose_film_1D_z0mm.csv', <http.client.HTTPMessage at 0x1f969e40af0>)"
      ]
     },
     "execution_count": 3,
     "metadata": {},
     "output_type": "execute_result"
    }
   ],
   "source": [
    "url = 'https://github.com/pymedphys/data/raw/200a79623e5c8b226e039e45a606512129a9df97/dose_film_1D_z0mm.csv'\n",
    "save_filepath = 'dose_film_1D_z0mm.csv'\n",
    "\n",
    "urllib.request.urlretrieve(url, save_filepath)"
   ]
  },
  {
   "cell_type": "code",
   "execution_count": 4,
   "metadata": {},
   "outputs": [
    {
     "data": {
      "text/plain": [
       "('dose_MC_1D_z0mm.csv', <http.client.HTTPMessage at 0x1f96767ff70>)"
      ]
     },
     "execution_count": 4,
     "metadata": {},
     "output_type": "execute_result"
    }
   ],
   "source": [
    "url = 'https://github.com/pymedphys/data/raw/200a79623e5c8b226e039e45a606512129a9df97/dose_MC_1D_z0mm.csv'\n",
    "save_filepath = 'dose_MC_1D_z0mm.csv'\n",
    "\n",
    "urllib.request.urlretrieve(url, save_filepath)"
   ]
  },
  {
   "cell_type": "code",
   "execution_count": 5,
   "metadata": {},
   "outputs": [
    {
     "ename": "FileNotFoundError",
     "evalue": "[Errno 2] No such file or directory: 'C:\\\\Users\\\\milewski\\\\AppData\\\\Local\\\\miniforge3\\\\envs\\\\idk69\\\\Lib\\\\lib\\\\pymedphys\\\\dependency-extra.txt'",
     "output_type": "error",
     "traceback": [
      "\u001b[1;31m---------------------------------------------------------------------------\u001b[0m",
      "\u001b[1;31mModuleNotFoundError\u001b[0m                       Traceback (most recent call last)",
      "File \u001b[1;32mc:\\Users\\milewski\\AppData\\Local\\miniforge3\\envs\\idk69\\lib\\site-packages\\pymedphys\\_vendor\\apipkg\\__init__.py:238\u001b[0m, in \u001b[0;36mAliasModule.<locals>.AliasModule.__getattribute__\u001b[1;34m(self, name)\u001b[0m\n\u001b[0;32m    237\u001b[0m \u001b[38;5;28;01mtry\u001b[39;00m:\n\u001b[1;32m--> 238\u001b[0m     \u001b[38;5;28;01mreturn\u001b[39;00m \u001b[38;5;28mgetattr\u001b[39m(\u001b[43mgetmod\u001b[49m\u001b[43m(\u001b[49m\u001b[43m)\u001b[49m, name)\n\u001b[0;32m    239\u001b[0m \u001b[38;5;28;01mexcept\u001b[39;00m (\u001b[38;5;167;01mImportError\u001b[39;00m, \u001b[38;5;167;01mModuleNotFoundError\u001b[39;00m) \u001b[38;5;28;01mas\u001b[39;00m exc:\n\u001b[0;32m    240\u001b[0m     \u001b[38;5;66;03m# Support inspection rejection\u001b[39;00m\n",
      "File \u001b[1;32mc:\\Users\\milewski\\AppData\\Local\\miniforge3\\envs\\idk69\\lib\\site-packages\\pymedphys\\_vendor\\apipkg\\__init__.py:217\u001b[0m, in \u001b[0;36mAliasModule.<locals>.getmod\u001b[1;34m()\u001b[0m\n\u001b[0;32m    216\u001b[0m \u001b[38;5;28;01mif\u001b[39;00m \u001b[38;5;129;01mnot\u001b[39;00m mod:\n\u001b[1;32m--> 217\u001b[0m     x \u001b[38;5;241m=\u001b[39m \u001b[43mimportobj\u001b[49m\u001b[43m(\u001b[49m\u001b[43mmodpath\u001b[49m\u001b[43m,\u001b[49m\u001b[43m \u001b[49m\u001b[38;5;28;43;01mNone\u001b[39;49;00m\u001b[43m)\u001b[49m\n\u001b[0;32m    218\u001b[0m     \u001b[38;5;28;01mif\u001b[39;00m attrname \u001b[38;5;129;01mis\u001b[39;00m \u001b[38;5;129;01mnot\u001b[39;00m \u001b[38;5;28;01mNone\u001b[39;00m:\n",
      "File \u001b[1;32mc:\\Users\\milewski\\AppData\\Local\\miniforge3\\envs\\idk69\\lib\\site-packages\\pymedphys\\_vendor\\apipkg\\__init__.py:104\u001b[0m, in \u001b[0;36mimportobj\u001b[1;34m(modpath, attrname)\u001b[0m\n\u001b[0;32m    103\u001b[0m \u001b[38;5;250m\u001b[39m\u001b[38;5;124;03m\"\"\"imports a module, then resolves the attrname on it\"\"\"\u001b[39;00m\n\u001b[1;32m--> 104\u001b[0m module \u001b[38;5;241m=\u001b[39m \u001b[38;5;28;43m__import__\u001b[39;49m\u001b[43m(\u001b[49m\u001b[43mmodpath\u001b[49m\u001b[43m,\u001b[49m\u001b[43m \u001b[49m\u001b[38;5;28;43;01mNone\u001b[39;49;00m\u001b[43m,\u001b[49m\u001b[43m \u001b[49m\u001b[38;5;28;43;01mNone\u001b[39;49;00m\u001b[43m,\u001b[49m\u001b[43m \u001b[49m\u001b[43m[\u001b[49m\u001b[38;5;124;43m\"\u001b[39;49m\u001b[38;5;124;43m__doc__\u001b[39;49m\u001b[38;5;124;43m\"\u001b[39;49m\u001b[43m]\u001b[49m\u001b[43m)\u001b[49m\n\u001b[0;32m    105\u001b[0m \u001b[38;5;28;01mif\u001b[39;00m \u001b[38;5;129;01mnot\u001b[39;00m attrname:\n",
      "\u001b[1;31mModuleNotFoundError\u001b[0m: No module named 'interpolation'",
      "\nDuring handling of the above exception, another exception occurred:\n",
      "\u001b[1;31mFileNotFoundError\u001b[0m                         Traceback (most recent call last)",
      "Cell \u001b[1;32mIn[5], line 21\u001b[0m\n\u001b[0;32m      9\u001b[0m gamma_options \u001b[38;5;241m=\u001b[39m {\n\u001b[0;32m     10\u001b[0m     \u001b[38;5;124m'\u001b[39m\u001b[38;5;124mdose_percent_threshold\u001b[39m\u001b[38;5;124m'\u001b[39m: \u001b[38;5;241m1\u001b[39m,\n\u001b[0;32m     11\u001b[0m     \u001b[38;5;124m'\u001b[39m\u001b[38;5;124mdistance_mm_threshold\u001b[39m\u001b[38;5;124m'\u001b[39m: \u001b[38;5;241m1\u001b[39m,\n\u001b[1;32m   (...)\u001b[0m\n\u001b[0;32m     17\u001b[0m     \u001b[38;5;124m'\u001b[39m\u001b[38;5;124mram_available\u001b[39m\u001b[38;5;124m'\u001b[39m: \u001b[38;5;241m2\u001b[39m \u001b[38;5;241m*\u001b[39m\u001b[38;5;241m*\u001b[39m \u001b[38;5;241m29\u001b[39m  \u001b[38;5;66;03m# 1/2 GB\u001b[39;00m\n\u001b[0;32m     18\u001b[0m }\n\u001b[0;32m     19\u001b[0m \u001b[38;5;66;03m#for global dose normalization, the maximum reference dose is used\u001b[39;00m\n\u001b[0;32m     20\u001b[0m \u001b[38;5;66;03m#but in TG218, it said usually the prescribed dose or the maximum dose in a plan (evaluation) is used\u001b[39;00m\n\u001b[1;32m---> 21\u001b[0m gamma \u001b[38;5;241m=\u001b[39m pymedphys\u001b[38;5;241m.\u001b[39mgamma(\n\u001b[0;32m     22\u001b[0m     axis_reference, dose_reference,\n\u001b[0;32m     23\u001b[0m     axis_evaluation, dose_evaluation,\n\u001b[0;32m     24\u001b[0m     \u001b[38;5;241m*\u001b[39m\u001b[38;5;241m*\u001b[39mgamma_options)\n",
      "File \u001b[1;32mc:\\Users\\milewski\\AppData\\Local\\miniforge3\\envs\\idk69\\lib\\site-packages\\pymedphys\\_gamma\\implementation\\shell.py:164\u001b[0m, in \u001b[0;36mgamma_shell\u001b[1;34m(axes_reference, dose_reference, axes_evaluation, dose_evaluation, dose_percent_threshold, distance_mm_threshold, lower_percent_dose_cutoff, interp_fraction, max_gamma, local_gamma, global_normalisation, skip_once_passed, random_subset, ram_available, quiet)\u001b[0m\n\u001b[0;32m    157\u001b[0m logging\u001b[38;5;241m.\u001b[39minfo(\u001b[38;5;124m\"\u001b[39m\u001b[38;5;124mDistance threshold set to \u001b[39m\u001b[38;5;132;01m%s\u001b[39;00m\u001b[38;5;124m\"\u001b[39m, options\u001b[38;5;241m.\u001b[39mdistance_mm_threshold)\n\u001b[0;32m    158\u001b[0m logging\u001b[38;5;241m.\u001b[39minfo(\n\u001b[0;32m    159\u001b[0m     \u001b[38;5;124m\"\u001b[39m\u001b[38;5;124mLower dose cutoff set to \u001b[39m\u001b[38;5;132;01m%.3f\u001b[39;00m\u001b[38;5;124m (\u001b[39m\u001b[38;5;132;01m%.1f\u001b[39;00m\u001b[38;5;132;01m%%\u001b[39;00m\u001b[38;5;124m of normalisation)\u001b[39m\u001b[38;5;124m\"\u001b[39m,\n\u001b[0;32m    160\u001b[0m     options\u001b[38;5;241m.\u001b[39mlower_dose_cutoff,\n\u001b[0;32m    161\u001b[0m     lower_percent_dose_cutoff,\n\u001b[0;32m    162\u001b[0m )\n\u001b[1;32m--> 164\u001b[0m current_gamma \u001b[38;5;241m=\u001b[39m \u001b[43mgamma_loop\u001b[49m\u001b[43m(\u001b[49m\u001b[43moptions\u001b[49m\u001b[43m)\u001b[49m\n\u001b[0;32m    166\u001b[0m gamma \u001b[38;5;241m=\u001b[39m {}\n\u001b[0;32m    167\u001b[0m \u001b[38;5;28;01mfor\u001b[39;00m i, dose_threshold \u001b[38;5;129;01min\u001b[39;00m \u001b[38;5;28menumerate\u001b[39m(options\u001b[38;5;241m.\u001b[39mdose_percent_threshold):\n",
      "File \u001b[1;32mc:\\Users\\milewski\\AppData\\Local\\miniforge3\\envs\\idk69\\lib\\site-packages\\pymedphys\\_gamma\\implementation\\shell.py:348\u001b[0m, in \u001b[0;36mgamma_loop\u001b[1;34m(options)\u001b[0m\n\u001b[0;32m    341\u001b[0m \u001b[38;5;28;01mwhile\u001b[39;00m distance \u001b[38;5;241m<\u001b[39m\u001b[38;5;241m=\u001b[39m options\u001b[38;5;241m.\u001b[39mmaximum_test_distance:\n\u001b[0;32m    342\u001b[0m     logging\u001b[38;5;241m.\u001b[39mdebug(\n\u001b[0;32m    343\u001b[0m         \u001b[38;5;124m\"\u001b[39m\u001b[38;5;124mCurrent distance: \u001b[39m\u001b[38;5;132;01m%.2f\u001b[39;00m\u001b[38;5;124m mm | \u001b[39m\u001b[38;5;124m\"\u001b[39m \u001b[38;5;124m\"\u001b[39m\u001b[38;5;124mNumber of reference points remaining: \u001b[39m\u001b[38;5;132;01m%i\u001b[39;00m\u001b[38;5;124m\"\u001b[39m,\n\u001b[0;32m    344\u001b[0m         distance,\n\u001b[0;32m    345\u001b[0m         np\u001b[38;5;241m.\u001b[39msum(to_be_checked),\n\u001b[0;32m    346\u001b[0m     )\n\u001b[1;32m--> 348\u001b[0m     min_relative_dose_difference \u001b[38;5;241m=\u001b[39m \u001b[43mcalculate_min_dose_difference\u001b[49m\u001b[43m(\u001b[49m\n\u001b[0;32m    349\u001b[0m \u001b[43m        \u001b[49m\u001b[43moptions\u001b[49m\u001b[43m,\u001b[49m\u001b[43m \u001b[49m\u001b[43mdistance\u001b[49m\u001b[43m,\u001b[49m\u001b[43m \u001b[49m\u001b[43mto_be_checked\u001b[49m\u001b[43m,\u001b[49m\u001b[43m \u001b[49m\u001b[43mdistance_step_size\u001b[49m\n\u001b[0;32m    350\u001b[0m \u001b[43m    \u001b[49m\u001b[43m)\u001b[49m\n\u001b[0;32m    352\u001b[0m     current_gamma, still_searching_for_gamma_all \u001b[38;5;241m=\u001b[39m multi_thresholds_gamma_calc(\n\u001b[0;32m    353\u001b[0m         options,\n\u001b[0;32m    354\u001b[0m         current_gamma,\n\u001b[1;32m   (...)\u001b[0m\n\u001b[0;32m    357\u001b[0m         to_be_checked,\n\u001b[0;32m    358\u001b[0m     )\n\u001b[0;32m    360\u001b[0m     still_searching_for_gamma \u001b[38;5;241m=\u001b[39m np\u001b[38;5;241m.\u001b[39many(\n\u001b[0;32m    361\u001b[0m         np\u001b[38;5;241m.\u001b[39many(still_searching_for_gamma_all, axis\u001b[38;5;241m=\u001b[39m\u001b[38;5;241m-\u001b[39m\u001b[38;5;241m1\u001b[39m), axis\u001b[38;5;241m=\u001b[39m\u001b[38;5;241m-\u001b[39m\u001b[38;5;241m1\u001b[39m\n\u001b[0;32m    362\u001b[0m     )\n",
      "File \u001b[1;32mc:\\Users\\milewski\\AppData\\Local\\miniforge3\\envs\\idk69\\lib\\site-packages\\pymedphys\\_gamma\\implementation\\shell.py:485\u001b[0m, in \u001b[0;36mcalculate_min_dose_difference\u001b[1;34m(options, distance, to_be_checked, distance_step_size)\u001b[0m\n\u001b[0;32m    479\u001b[0m \u001b[38;5;28;01massert\u001b[39;00m np\u001b[38;5;241m.\u001b[39mall(to_be_checked[to_be_checked_sliced])\n\u001b[0;32m    481\u001b[0m axes_reference_to_be_checked \u001b[38;5;241m=\u001b[39m options\u001b[38;5;241m.\u001b[39mflat_mesh_axes_reference[\n\u001b[0;32m    482\u001b[0m     :, to_be_checked_sliced\n\u001b[0;32m    483\u001b[0m ]\n\u001b[1;32m--> 485\u001b[0m evaluation_dose \u001b[38;5;241m=\u001b[39m \u001b[43minterpolate_evaluation_dose_at_distance\u001b[49m\u001b[43m(\u001b[49m\n\u001b[0;32m    486\u001b[0m \u001b[43m    \u001b[49m\u001b[43moptions\u001b[49m\u001b[43m,\u001b[49m\n\u001b[0;32m    487\u001b[0m \u001b[43m    \u001b[49m\u001b[43maxes_reference_to_be_checked\u001b[49m\u001b[43m,\u001b[49m\n\u001b[0;32m    488\u001b[0m \u001b[43m    \u001b[49m\u001b[43mcoordinates_at_distance_shell\u001b[49m\u001b[43m,\u001b[49m\n\u001b[0;32m    489\u001b[0m \u001b[43m\u001b[49m\u001b[43m)\u001b[49m\n\u001b[0;32m    491\u001b[0m \u001b[38;5;28;01mif\u001b[39;00m options\u001b[38;5;241m.\u001b[39mlocal_gamma:\n\u001b[0;32m    492\u001b[0m     \u001b[38;5;28;01mwith\u001b[39;00m np\u001b[38;5;241m.\u001b[39merrstate(divide\u001b[38;5;241m=\u001b[39m\u001b[38;5;124m\"\u001b[39m\u001b[38;5;124mignore\u001b[39m\u001b[38;5;124m\"\u001b[39m):\n",
      "File \u001b[1;32mc:\\Users\\milewski\\AppData\\Local\\miniforge3\\envs\\idk69\\lib\\site-packages\\pymedphys\\_gamma\\implementation\\shell.py:523\u001b[0m, in \u001b[0;36minterpolate_evaluation_dose_at_distance\u001b[1;34m(options, axes_reference_to_be_checked, coordinates_at_distance_shell)\u001b[0m\n\u001b[0;32m    518\u001b[0m all_points \u001b[38;5;241m=\u001b[39m add_shells_to_ref_coords(\n\u001b[0;32m    519\u001b[0m     axes_reference_to_be_checked, coordinates_at_distance_shell\n\u001b[0;32m    520\u001b[0m )\n\u001b[0;32m    522\u001b[0m \u001b[38;5;28;01mtry\u001b[39;00m:\n\u001b[1;32m--> 523\u001b[0m     evaluation_dose \u001b[38;5;241m=\u001b[39m \u001b[43m_run_interp_with_econforge\u001b[49m\u001b[43m(\u001b[49m\u001b[43moptions\u001b[49m\u001b[43m,\u001b[49m\u001b[43m \u001b[49m\u001b[43mall_points\u001b[49m\u001b[43m)\u001b[49m\n\u001b[0;32m    524\u001b[0m \u001b[38;5;28;01mexcept\u001b[39;00m \u001b[38;5;167;01mImportError\u001b[39;00m:\n\u001b[0;32m    525\u001b[0m     evaluation_dose \u001b[38;5;241m=\u001b[39m _run_interp_with_scipy(options, all_points)\n",
      "File \u001b[1;32mc:\\Users\\milewski\\AppData\\Local\\miniforge3\\envs\\idk69\\lib\\site-packages\\pymedphys\\_gamma\\implementation\\shell.py:537\u001b[0m, in \u001b[0;36m_run_interp_with_econforge\u001b[1;34m(options, all_points)\u001b[0m\n\u001b[0;32m    533\u001b[0m     grids\u001b[38;5;241m.\u001b[39mappend(all_points[:, :, i])\n\u001b[0;32m    535\u001b[0m points_interp \u001b[38;5;241m=\u001b[39m np\u001b[38;5;241m.\u001b[39mcolumn_stack([np\u001b[38;5;241m.\u001b[39mravel(mgrid) \u001b[38;5;28;01mfor\u001b[39;00m mgrid \u001b[38;5;129;01min\u001b[39;00m grids])\u001b[38;5;241m.\u001b[39mastype(\u001b[38;5;28mfloat\u001b[39m)\n\u001b[1;32m--> 537\u001b[0m coords_evaluation_grid \u001b[38;5;241m=\u001b[39m \u001b[43minterpolation\u001b[49m\u001b[38;5;241;43m.\u001b[39;49m\u001b[43msplines\u001b[49m\u001b[38;5;241;43m.\u001b[39;49m\u001b[43mCGrid\u001b[49m(\u001b[38;5;241m*\u001b[39moptions\u001b[38;5;241m.\u001b[39maxes_evaluation)\n\u001b[0;32m    539\u001b[0m evaluation_dose \u001b[38;5;241m=\u001b[39m interpolation\u001b[38;5;241m.\u001b[39msplines\u001b[38;5;241m.\u001b[39meval_linear(\n\u001b[0;32m    540\u001b[0m     coords_evaluation_grid,\n\u001b[0;32m    541\u001b[0m     np\u001b[38;5;241m.\u001b[39marray(options\u001b[38;5;241m.\u001b[39mdose_evaluation),\n\u001b[0;32m    542\u001b[0m     points_interp,\n\u001b[0;32m    543\u001b[0m )\u001b[38;5;241m.\u001b[39mreshape(np\u001b[38;5;241m.\u001b[39mshape(all_points)[:\u001b[38;5;241m-\u001b[39m\u001b[38;5;241m1\u001b[39m])\n\u001b[0;32m    545\u001b[0m \u001b[38;5;28;01mreturn\u001b[39;00m evaluation_dose\n",
      "File \u001b[1;32mc:\\Users\\milewski\\AppData\\Local\\miniforge3\\envs\\idk69\\lib\\site-packages\\pymedphys\\_vendor\\apipkg\\__init__.py:252\u001b[0m, in \u001b[0;36mAliasModule.<locals>.AliasModule.__getattribute__\u001b[1;34m(self, name)\u001b[0m\n\u001b[0;32m    249\u001b[0m \u001b[38;5;28;01mfrom\u001b[39;00m \u001b[38;5;21;01mpymedphys\u001b[39;00m\u001b[38;5;21;01m.\u001b[39;00m\u001b[38;5;21;01m_version\u001b[39;00m \u001b[38;5;28;01mimport\u001b[39;00m __version__\n\u001b[0;32m    251\u001b[0m extra \u001b[38;5;241m=\u001b[39m \u001b[38;5;124m\"\u001b[39m\u001b[38;5;124muser\u001b[39m\u001b[38;5;124m\"\u001b[39m\n\u001b[1;32m--> 252\u001b[0m \u001b[38;5;28;01mwith\u001b[39;00m \u001b[38;5;28;43mopen\u001b[39;49m\u001b[43m(\u001b[49m\u001b[43mDEPENDENCY_EXTRA_PATH\u001b[49m\u001b[43m)\u001b[49m \u001b[38;5;28;01mas\u001b[39;00m f:\n\u001b[0;32m    253\u001b[0m     dep_extra_contents \u001b[38;5;241m=\u001b[39m tomlkit\u001b[38;5;241m.\u001b[39mloads(f\u001b[38;5;241m.\u001b[39mread())\n\u001b[0;32m    255\u001b[0m \u001b[38;5;66;03m# Suggest extra with minimal num of dependencies\u001b[39;00m\n",
      "\u001b[1;31mFileNotFoundError\u001b[0m: [Errno 2] No such file or directory: 'C:\\\\Users\\\\milewski\\\\AppData\\\\Local\\\\miniforge3\\\\envs\\\\idk69\\\\Lib\\\\lib\\\\pymedphys\\\\dependency-extra.txt'"
     ]
    }
   ],
   "source": [
    "reference = np.genfromtxt('dose_film_1D_z0mm.csv',delimiter=',',skip_header=1)\n",
    "evaluation = np.genfromtxt('dose_MC_1D_z0mm.csv',delimiter=',',skip_header=1)\n",
    "\n",
    "axis_reference = reference[:, 0] #1st column is x in mm\n",
    "dose_reference = reference[:, 1] #2nd column is dose in Gy/MU\n",
    "\n",
    "axis_evaluation = evaluation[:, 0]\n",
    "dose_evaluation = evaluation[:, 1]\n",
    "gamma_options = {\n",
    "    'dose_percent_threshold': 1,\n",
    "    'distance_mm_threshold': 1,\n",
    "    'lower_percent_dose_cutoff': 10,\n",
    "    'interp_fraction': 10,  # Should be 10 or more for more accurate results\n",
    "    'max_gamma': 2,\n",
    "    'random_subset': None,\n",
    "    'local_gamma': False, # False indicates global gamma is calculated\n",
    "    'ram_available': 2 ** 29  # 1/2 GB\n",
    "}\n",
    "#for global dose normalization, the maximum reference dose is used\n",
    "#but in TG218, it said usually the prescribed dose or the maximum dose in a plan (evaluation) is used\n",
    "gamma = pymedphys.gamma(\n",
    "    axis_reference, dose_reference,\n",
    "    axis_evaluation, dose_evaluation,\n",
    "    **gamma_options)"
   ]
  },
  {
   "cell_type": "code",
   "execution_count": 6,
   "metadata": {},
   "outputs": [],
   "source": [
    "import numpy as np\n",
    "import matplotlib.pyplot as plt"
   ]
  },
  {
   "cell_type": "code",
   "execution_count": 7,
   "metadata": {},
   "outputs": [],
   "source": [
    "import pydicom\n",
    "import pymedphys"
   ]
  },
  {
   "cell_type": "code",
   "execution_count": 9,
   "metadata": {},
   "outputs": [
    {
     "ename": "FileNotFoundError",
     "evalue": "[Errno 2] No such file or directory: 'C:\\\\Users\\\\milewski\\\\AppData\\\\Local\\\\miniforge3\\\\envs\\\\idk69\\\\Lib\\\\lib\\\\pymedphys\\\\dependency-extra.txt'",
     "output_type": "error",
     "traceback": [
      "\u001b[1;31m---------------------------------------------------------------------------\u001b[0m",
      "\u001b[1;31mModuleNotFoundError\u001b[0m                       Traceback (most recent call last)",
      "File \u001b[1;32mc:\\Users\\milewski\\AppData\\Local\\miniforge3\\envs\\idk69\\lib\\site-packages\\pymedphys\\_vendor\\apipkg\\__init__.py:238\u001b[0m, in \u001b[0;36mAliasModule.<locals>.AliasModule.__getattribute__\u001b[1;34m(self, name)\u001b[0m\n\u001b[0;32m    237\u001b[0m \u001b[38;5;28;01mtry\u001b[39;00m:\n\u001b[1;32m--> 238\u001b[0m     \u001b[38;5;28;01mreturn\u001b[39;00m \u001b[38;5;28mgetattr\u001b[39m(\u001b[43mgetmod\u001b[49m\u001b[43m(\u001b[49m\u001b[43m)\u001b[49m, name)\n\u001b[0;32m    239\u001b[0m \u001b[38;5;28;01mexcept\u001b[39;00m (\u001b[38;5;167;01mImportError\u001b[39;00m, \u001b[38;5;167;01mModuleNotFoundError\u001b[39;00m) \u001b[38;5;28;01mas\u001b[39;00m exc:\n\u001b[0;32m    240\u001b[0m     \u001b[38;5;66;03m# Support inspection rejection\u001b[39;00m\n",
      "File \u001b[1;32mc:\\Users\\milewski\\AppData\\Local\\miniforge3\\envs\\idk69\\lib\\site-packages\\pymedphys\\_vendor\\apipkg\\__init__.py:217\u001b[0m, in \u001b[0;36mAliasModule.<locals>.getmod\u001b[1;34m()\u001b[0m\n\u001b[0;32m    216\u001b[0m \u001b[38;5;28;01mif\u001b[39;00m \u001b[38;5;129;01mnot\u001b[39;00m mod:\n\u001b[1;32m--> 217\u001b[0m     x \u001b[38;5;241m=\u001b[39m \u001b[43mimportobj\u001b[49m\u001b[43m(\u001b[49m\u001b[43mmodpath\u001b[49m\u001b[43m,\u001b[49m\u001b[43m \u001b[49m\u001b[38;5;28;43;01mNone\u001b[39;49;00m\u001b[43m)\u001b[49m\n\u001b[0;32m    218\u001b[0m     \u001b[38;5;28;01mif\u001b[39;00m attrname \u001b[38;5;129;01mis\u001b[39;00m \u001b[38;5;129;01mnot\u001b[39;00m \u001b[38;5;28;01mNone\u001b[39;00m:\n",
      "File \u001b[1;32mc:\\Users\\milewski\\AppData\\Local\\miniforge3\\envs\\idk69\\lib\\site-packages\\pymedphys\\_vendor\\apipkg\\__init__.py:104\u001b[0m, in \u001b[0;36mimportobj\u001b[1;34m(modpath, attrname)\u001b[0m\n\u001b[0;32m    103\u001b[0m \u001b[38;5;250m\u001b[39m\u001b[38;5;124;03m\"\"\"imports a module, then resolves the attrname on it\"\"\"\u001b[39;00m\n\u001b[1;32m--> 104\u001b[0m module \u001b[38;5;241m=\u001b[39m \u001b[38;5;28;43m__import__\u001b[39;49m\u001b[43m(\u001b[49m\u001b[43mmodpath\u001b[49m\u001b[43m,\u001b[49m\u001b[43m \u001b[49m\u001b[38;5;28;43;01mNone\u001b[39;49;00m\u001b[43m,\u001b[49m\u001b[43m \u001b[49m\u001b[38;5;28;43;01mNone\u001b[39;49;00m\u001b[43m,\u001b[49m\u001b[43m \u001b[49m\u001b[43m[\u001b[49m\u001b[38;5;124;43m\"\u001b[39;49m\u001b[38;5;124;43m__doc__\u001b[39;49m\u001b[38;5;124;43m\"\u001b[39;49m\u001b[43m]\u001b[49m\u001b[43m)\u001b[49m\n\u001b[0;32m    105\u001b[0m \u001b[38;5;28;01mif\u001b[39;00m \u001b[38;5;129;01mnot\u001b[39;00m attrname:\n",
      "\u001b[1;31mModuleNotFoundError\u001b[0m: No module named 'tqdm'",
      "\nDuring handling of the above exception, another exception occurred:\n",
      "\u001b[1;31mFileNotFoundError\u001b[0m                         Traceback (most recent call last)",
      "Cell \u001b[1;32mIn[9], line 1\u001b[0m\n\u001b[1;32m----> 1\u001b[0m reference_filepath \u001b[38;5;241m=\u001b[39m \u001b[43mpymedphys\u001b[49m\u001b[38;5;241;43m.\u001b[39;49m\u001b[43mdata_path\u001b[49m\u001b[43m(\u001b[49m\u001b[38;5;124;43m\"\u001b[39;49m\u001b[38;5;124;43moriginal_dose_beam_4.dcm\u001b[39;49m\u001b[38;5;124;43m\"\u001b[39;49m\u001b[43m)\u001b[49m\n",
      "File \u001b[1;32mc:\\Users\\milewski\\AppData\\Local\\miniforge3\\envs\\idk69\\lib\\site-packages\\pymedphys\\_data\\download.py:133\u001b[0m, in \u001b[0;36mdata_path\u001b[1;34m(filename, check_hash, redownload_on_hash_mismatch, delete_when_no_hash_found, url, hash_filepath)\u001b[0m\n\u001b[0;32m    130\u001b[0m     \u001b[38;5;28;01mif\u001b[39;00m url \u001b[38;5;129;01mis\u001b[39;00m \u001b[38;5;28;01mNone\u001b[39;00m:\n\u001b[0;32m    131\u001b[0m         url \u001b[38;5;241m=\u001b[39m get_url(filename)\n\u001b[1;32m--> 133\u001b[0m     \u001b[43mdownload_with_progress\u001b[49m\u001b[43m(\u001b[49m\u001b[43murl\u001b[49m\u001b[43m,\u001b[49m\u001b[43m \u001b[49m\u001b[43mfilepath\u001b[49m\u001b[43m)\u001b[49m\n\u001b[0;32m    135\u001b[0m \u001b[38;5;28;01mif\u001b[39;00m check_hash:\n\u001b[0;32m    136\u001b[0m     \u001b[38;5;28;01mtry\u001b[39;00m:\n",
      "File \u001b[1;32mc:\\Users\\milewski\\AppData\\Local\\miniforge3\\envs\\idk69\\lib\\site-packages\\pymedphys\\_data\\retry.py:31\u001b[0m, in \u001b[0;36mretry.<locals>.deco_retry.<locals>.f_retry\u001b[1;34m(*args, **kwargs)\u001b[0m\n\u001b[0;32m     29\u001b[0m \u001b[38;5;28;01mwhile\u001b[39;00m mtries \u001b[38;5;241m>\u001b[39m \u001b[38;5;241m1\u001b[39m:\n\u001b[0;32m     30\u001b[0m     \u001b[38;5;28;01mtry\u001b[39;00m:\n\u001b[1;32m---> 31\u001b[0m         \u001b[38;5;28;01mreturn\u001b[39;00m f(\u001b[38;5;241m*\u001b[39margs, \u001b[38;5;241m*\u001b[39m\u001b[38;5;241m*\u001b[39mkwargs)\n\u001b[0;32m     32\u001b[0m     \u001b[38;5;28;01mexcept\u001b[39;00m ExceptionToCheck \u001b[38;5;28;01mas\u001b[39;00m e:\n\u001b[0;32m     33\u001b[0m         msg \u001b[38;5;241m=\u001b[39m \u001b[38;5;124m\"\u001b[39m\u001b[38;5;132;01m%s\u001b[39;00m\u001b[38;5;124m, Retrying in \u001b[39m\u001b[38;5;132;01m%d\u001b[39;00m\u001b[38;5;124m seconds...\u001b[39m\u001b[38;5;124m\"\u001b[39m \u001b[38;5;241m%\u001b[39m (\u001b[38;5;28mstr\u001b[39m(e), mdelay)\n",
      "File \u001b[1;32mc:\\Users\\milewski\\AppData\\Local\\miniforge3\\envs\\idk69\\lib\\site-packages\\pymedphys\\_data\\download.py:49\u001b[0m, in \u001b[0;36mdownload_with_progress\u001b[1;34m(url, filepath)\u001b[0m\n\u001b[0;32m     47\u001b[0m \u001b[38;5;129m@retry\u001b[39m\u001b[38;5;241m.\u001b[39mretry((urllib\u001b[38;5;241m.\u001b[39merror\u001b[38;5;241m.\u001b[39mHTTPError, \u001b[38;5;167;01mConnectionResetError\u001b[39;00m))\n\u001b[0;32m     48\u001b[0m \u001b[38;5;28;01mdef\u001b[39;00m \u001b[38;5;21mdownload_with_progress\u001b[39m(url, filepath):\n\u001b[1;32m---> 49\u001b[0m     DownloadProgressBar \u001b[38;5;241m=\u001b[39m \u001b[43mcreate_download_progress_bar\u001b[49m\u001b[43m(\u001b[49m\u001b[43m)\u001b[49m\n\u001b[0;32m     51\u001b[0m     \u001b[38;5;28;01mwith\u001b[39;00m DownloadProgressBar(\n\u001b[0;32m     52\u001b[0m         unit\u001b[38;5;241m=\u001b[39m\u001b[38;5;124m\"\u001b[39m\u001b[38;5;124mB\u001b[39m\u001b[38;5;124m\"\u001b[39m, unit_scale\u001b[38;5;241m=\u001b[39m\u001b[38;5;28;01mTrue\u001b[39;00m, miniters\u001b[38;5;241m=\u001b[39m\u001b[38;5;241m1\u001b[39m, desc\u001b[38;5;241m=\u001b[39murl\u001b[38;5;241m.\u001b[39msplit(\u001b[38;5;124m\"\u001b[39m\u001b[38;5;124m/\u001b[39m\u001b[38;5;124m\"\u001b[39m)[\u001b[38;5;241m-\u001b[39m\u001b[38;5;241m1\u001b[39m]\n\u001b[0;32m     53\u001b[0m     ) \u001b[38;5;28;01mas\u001b[39;00m t:\n\u001b[0;32m     54\u001b[0m         urllib\u001b[38;5;241m.\u001b[39mrequest\u001b[38;5;241m.\u001b[39murlretrieve(url, filepath, reporthook\u001b[38;5;241m=\u001b[39mt\u001b[38;5;241m.\u001b[39mupdate_to)\n",
      "File \u001b[1;32mc:\\Users\\milewski\\AppData\\Local\\miniforge3\\envs\\idk69\\lib\\site-packages\\pymedphys\\_data\\download.py:38\u001b[0m, in \u001b[0;36mcreate_download_progress_bar\u001b[1;34m()\u001b[0m\n\u001b[0;32m     36\u001b[0m \u001b[38;5;129m@functools\u001b[39m\u001b[38;5;241m.\u001b[39mlru_cache()\n\u001b[0;32m     37\u001b[0m \u001b[38;5;28;01mdef\u001b[39;00m \u001b[38;5;21mcreate_download_progress_bar\u001b[39m():\n\u001b[1;32m---> 38\u001b[0m     \u001b[38;5;28;01mclass\u001b[39;00m \u001b[38;5;21;01mDownloadProgressBar\u001b[39;00m(\u001b[43mtqdm\u001b[49m\u001b[38;5;241;43m.\u001b[39;49m\u001b[43mtqdm\u001b[49m):\n\u001b[0;32m     39\u001b[0m         \u001b[38;5;28;01mdef\u001b[39;00m \u001b[38;5;21mupdate_to\u001b[39m(\u001b[38;5;28mself\u001b[39m, b\u001b[38;5;241m=\u001b[39m\u001b[38;5;241m1\u001b[39m, bsize\u001b[38;5;241m=\u001b[39m\u001b[38;5;241m1\u001b[39m, tsize\u001b[38;5;241m=\u001b[39m\u001b[38;5;28;01mNone\u001b[39;00m):\n\u001b[0;32m     40\u001b[0m             \u001b[38;5;28;01mif\u001b[39;00m tsize \u001b[38;5;129;01mis\u001b[39;00m \u001b[38;5;129;01mnot\u001b[39;00m \u001b[38;5;28;01mNone\u001b[39;00m:\n",
      "File \u001b[1;32mc:\\Users\\milewski\\AppData\\Local\\miniforge3\\envs\\idk69\\lib\\site-packages\\pymedphys\\_vendor\\apipkg\\__init__.py:252\u001b[0m, in \u001b[0;36mAliasModule.<locals>.AliasModule.__getattribute__\u001b[1;34m(self, name)\u001b[0m\n\u001b[0;32m    249\u001b[0m \u001b[38;5;28;01mfrom\u001b[39;00m \u001b[38;5;21;01mpymedphys\u001b[39;00m\u001b[38;5;21;01m.\u001b[39;00m\u001b[38;5;21;01m_version\u001b[39;00m \u001b[38;5;28;01mimport\u001b[39;00m __version__\n\u001b[0;32m    251\u001b[0m extra \u001b[38;5;241m=\u001b[39m \u001b[38;5;124m\"\u001b[39m\u001b[38;5;124muser\u001b[39m\u001b[38;5;124m\"\u001b[39m\n\u001b[1;32m--> 252\u001b[0m \u001b[38;5;28;01mwith\u001b[39;00m \u001b[38;5;28;43mopen\u001b[39;49m\u001b[43m(\u001b[49m\u001b[43mDEPENDENCY_EXTRA_PATH\u001b[49m\u001b[43m)\u001b[49m \u001b[38;5;28;01mas\u001b[39;00m f:\n\u001b[0;32m    253\u001b[0m     dep_extra_contents \u001b[38;5;241m=\u001b[39m tomlkit\u001b[38;5;241m.\u001b[39mloads(f\u001b[38;5;241m.\u001b[39mread())\n\u001b[0;32m    255\u001b[0m \u001b[38;5;66;03m# Suggest extra with minimal num of dependencies\u001b[39;00m\n",
      "\u001b[1;31mFileNotFoundError\u001b[0m: [Errno 2] No such file or directory: 'C:\\\\Users\\\\milewski\\\\AppData\\\\Local\\\\miniforge3\\\\envs\\\\idk69\\\\Lib\\\\lib\\\\pymedphys\\\\dependency-extra.txt'"
     ]
    }
   ],
   "source": [
    "reference_filepath = pymedphys.data_path(\"original_dose_beam_4.dcm\")\n"
   ]
  }
 ],
 "metadata": {
  "kernelspec": {
   "display_name": "idk69",
   "language": "python",
   "name": "python3"
  },
  "language_info": {
   "codemirror_mode": {
    "name": "ipython",
    "version": 3
   },
   "file_extension": ".py",
   "mimetype": "text/x-python",
   "name": "python",
   "nbconvert_exporter": "python",
   "pygments_lexer": "ipython3",
   "version": "3.9.19"
  }
 },
 "nbformat": 4,
 "nbformat_minor": 2
}
